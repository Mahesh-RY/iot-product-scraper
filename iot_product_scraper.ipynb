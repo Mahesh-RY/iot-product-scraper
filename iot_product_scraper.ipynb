{
 "cells": [
  {
   "cell_type": "markdown",
   "id": "25e6f844",
   "metadata": {},
   "source": [
    "\n",
    "# IoT Product Scraper\n",
    "\n",
    "This notebook extracts IoT product details from product page links.\n",
    "\n",
    "**Features:**\n",
    "- Extracts product name, supplier details, prices, and images  \n",
    "- Generates unique product IDs based on technology abbreviations  \n",
    "- Saves results into Excel, Word, and Text files\n"
   ]
  },
  {
   "cell_type": "markdown",
   "id": "e4503630-318e-453b-9579-f1f5a3115dc1",
   "metadata": {},
   "source": [
    "# Imports"
   ]
  },
  {
   "cell_type": "markdown",
   "id": "07c03037-4350-4839-aa41-f9e169b8d4e3",
   "metadata": {},
   "source": [
    "Explanation:\n",
    "\n",
    "os: Helps with file handling (check if Excel/Word/Text files already exist).\n",
    "\n",
    "requests: Downloads the HTML content of the product page.\n",
    "\n",
    "BeautifulSoup: Parses the HTML so we can extract product details like supplier name, prices, etc.\n",
    "\n",
    "pandas: Manages tabular data (saves into Excel).\n",
    "\n",
    "docx.Document: Writes product details into a Word file."
   ]
  },
  {
   "cell_type": "code",
   "execution_count": 4,
   "id": "fb6e36f5",
   "metadata": {},
   "outputs": [],
   "source": [
    "\n",
    "import os\n",
    "import requests\n",
    "from bs4 import BeautifulSoup\n",
    "import pandas as pd\n",
    "from docx import Document\n"
   ]
  },
  {
   "cell_type": "markdown",
   "id": "e6c6ab02-eec3-4759-8b2b-c6cdcadb0de9",
   "metadata": {},
   "source": [
    "# Abbreviation Mapping"
   ]
  },
  {
   "cell_type": "markdown",
   "id": "f2828cc3-1982-46c7-964b-27bb4baf07d3",
   "metadata": {},
   "source": [
    "Explanation:\n",
    "\n",
    "Creates a dictionary mapping IoT technology names to their standard abbreviations.\n",
    "\n",
    "Example: if the product name contains \"Bluetooth\" → it will be stored as \"BLE\".\n",
    "\n",
    "This ensures consistent product ID generation."
   ]
  },
  {
   "cell_type": "code",
   "execution_count": 5,
   "id": "4cba420d",
   "metadata": {},
   "outputs": [],
   "source": [
    "\n",
    "# Abbreviation mapping for IoT keywords\n",
    "TECH_ABBREVIATIONS = {\n",
    "    \"LoRaWAN\": \"LoRaWAN\",\n",
    "    \"Wi-Fi HaLow\": \"WiFiHaLow\",\n",
    "    \"Z-Wave\": \"ZWave\",\n",
    "    \"BLE\": \"BLE\",\n",
    "    \"Bluetooth\": \"BLE\",   # in case product name has Bluetooth\n",
    "    \"RFID\": \"RFID\",\n",
    "    \"UHF\": \"UHF\",\n",
    "    \"NFC\": \"NFC\",\n",
    "    \"LF\": \"LF\",\n",
    "    \"NB-IoT\": \"NBIoT\",\n",
    "    \"NB IoT\": \"NBIoT\",\n",
    "    \"GPS\": \"GPS\",\n",
    "    \"IoT\": \"IoT\"\n",
    "}\n"
   ]
  },
  {
   "cell_type": "markdown",
   "id": "2555e0ff-f455-4bf2-aa5a-a235b1f4e27d",
   "metadata": {},
   "source": [
    "# Product ID Generator"
   ]
  },
  {
   "cell_type": "markdown",
   "id": "dad5fa9e-a15e-4f4d-9491-0cd1a13e0f93",
   "metadata": {},
   "source": [
    "🔹 Explanation:\n",
    "\n",
    "Maintains counters for each abbreviation (so IDs increment properly).\n",
    "\n",
    "Example:\n",
    "\n",
    "First BLE product → NCRTek-BLE-001\n",
    "\n",
    "Second BLE product → NCRTek-BLE-002\n",
    "\n",
    "If no keyword matches, a generic ID (GEN) is given."
   ]
  },
  {
   "cell_type": "code",
   "execution_count": 6,
   "id": "0a44df41",
   "metadata": {},
   "outputs": [],
   "source": [
    "\n",
    "# Counter memory for product IDs\n",
    "product_counters = {}\n",
    "\n",
    "def generate_product_id(product_name):\n",
    "    for keyword, abbr in TECH_ABBREVIATIONS.items():\n",
    "        if keyword.lower() in product_name.lower():\n",
    "            product_counters.setdefault(abbr, 0)\n",
    "            product_counters[abbr] += 1\n",
    "            return f\"NCRTek-{abbr}-{product_counters[abbr]:03d}\"\n",
    "    # fallback if no keyword matched\n",
    "    product_counters.setdefault(\"GEN\", 0)\n",
    "    product_counters[\"GEN\"] += 1\n",
    "    return f\"NCRTek-GEN-{product_counters['GEN']:03d}\"\n"
   ]
  },
  {
   "cell_type": "markdown",
   "id": "179f99ec-5793-4fa0-9f63-44053db02441",
   "metadata": {},
   "source": [
    "# Main Scraper Function"
   ]
  },
  {
   "cell_type": "markdown",
   "id": "25c90aa8-826a-41b1-869a-b5740798a9df",
   "metadata": {},
   "source": [
    "🔹 Explanation:\n",
    "\n",
    "Downloads the webpage (requests).\n",
    "\n",
    "Extracts containers:\n",
    "\n",
    "Product Name → inside div.product-title-container > h1.\n",
    "\n",
    "Supplier Info → inside span.company-name > a.\n",
    "\n",
    "Prices → loops over div.price-item and formats ranges (1 piece - 99 pieces $175).\n",
    "\n",
    "Images → collects all img inside div[data-testid='media-image'].\n",
    "\n",
    "Returns structured details (or None if something fails)."
   ]
  },
  {
   "cell_type": "code",
   "execution_count": 7,
   "id": "65b247c6",
   "metadata": {},
   "outputs": [],
   "source": [
    "\n",
    "def extract_product_details(product_url):\n",
    "    try:\n",
    "        headers = {\"User-Agent\": \"Mozilla/5.0\"}\n",
    "        response = requests.get(product_url, headers=headers, timeout=10)\n",
    "        \n",
    "        if response.status_code != 200:\n",
    "            return None, None, None, None, None, None\n",
    "        \n",
    "        soup = BeautifulSoup(response.text, \"html.parser\")\n",
    "        \n",
    "        # ---- Product Name ----\n",
    "        product_name = None\n",
    "        product_id = None\n",
    "        title_container = soup.find(\"div\", class_=\"product-title-container\")\n",
    "        if title_container:\n",
    "            h1_tag = title_container.find(\"h1\")\n",
    "            if h1_tag:\n",
    "                product_name = h1_tag.text.strip()\n",
    "                product_id = generate_product_id(product_name)\n",
    "        \n",
    "        # ---- Supplier ----\n",
    "        supplier_name, supplier_link = None, None\n",
    "        supplier_span = soup.find(\"span\", class_=\"company-name\")\n",
    "        if supplier_span:\n",
    "            supplier_tag = supplier_span.find(\"a\")\n",
    "            if supplier_tag and supplier_tag.get(\"href\"):\n",
    "                supplier_link = supplier_tag[\"href\"]\n",
    "                supplier_name = supplier_tag.text.strip()\n",
    "        \n",
    "        # ---- Prices ----\n",
    "        prices = []\n",
    "        price_blocks = soup.find_all(\"div\", class_=\"price-item\")\n",
    "        for block in price_blocks:\n",
    "            qty_block = block.find(\"div\", class_=\"id-mb-2\")\n",
    "            qty_text = \" \".join(qty_block.stripped_strings) if qty_block else \"\"\n",
    "            \n",
    "            price_span = block.find(\"span\")\n",
    "            price_text = price_span.text.strip() if price_span else \"\"\n",
    "            \n",
    "            if qty_text and price_text:\n",
    "                prices.append(f\"{qty_text} {price_text}\")\n",
    "        all_prices = \"\\n\".join(prices) if prices else None\n",
    "\n",
    "        # ---- Images ----\n",
    "        image_urls = []\n",
    "        main_images = soup.select(\"div[data-testid='media-image'] img\")\n",
    "        for img in main_images:\n",
    "            src = img.get(\"src\")\n",
    "            if src and not src.endswith(\"80x80.jpg\"):  # skip thumbnails\n",
    "                if src.startswith(\"//\"):\n",
    "                    src = \"https:\" + src\n",
    "                image_urls.append(src)\n",
    "\n",
    "        return product_name, product_id, supplier_name, supplier_link, all_prices, image_urls\n",
    "    except Exception:\n",
    "        return None, None, None, None, None, None\n"
   ]
  },
  {
   "cell_type": "markdown",
   "id": "e1dc508d-c1db-4e9a-87bd-cebb98efd6e9",
   "metadata": {},
   "source": [
    "# Execution + Saving"
   ]
  },
  {
   "cell_type": "markdown",
   "id": "564cd5c3-2708-4601-a139-6cd91966d72d",
   "metadata": {},
   "source": [
    "🔹 Explanation:\n",
    "\n",
    "Takes input → Product URL.\n",
    "\n",
    "Runs scraper → Gets all details.\n",
    "\n",
    "Saves results in 3 formats:\n",
    "\n",
    "Excel (.xlsx) → Table format for analysis.\n",
    "\n",
    "Word (.docx) → Formal supplier report.\n",
    "\n",
    "Text (.txt) → Quick reference log.\n",
    "\n",
    "Prints a success/error message."
   ]
  },
  {
   "cell_type": "code",
   "execution_count": 9,
   "id": "9ddf2b5a",
   "metadata": {},
   "outputs": [
    {
     "name": "stdin",
     "output_type": "stream",
     "text": [
      "Enter the product page link:  https://www.alibaba.com/product-detail/Skylab-Environmental-ABS-PC-4G-Wireless_60835110608.html?spm=a2700.details.buy_together.11.4a43534aERaTrt\n"
     ]
    },
    {
     "name": "stdout",
     "output_type": "stream",
     "text": [
      "\n",
      "✅ Product details extracted successfully!\n",
      "\n"
     ]
    }
   ],
   "source": [
    "\n",
    "product_url = input(\"Enter the product page link: \").strip()\n",
    "\n",
    "product_name, product_id, supplier_name, supplier_link, all_prices, image_urls = extract_product_details(product_url)\n",
    "\n",
    "if supplier_name and supplier_link:\n",
    "    # ---------- Excel ----------\n",
    "    excel_filename = \"product_data.xlsx\"\n",
    "    new_row = pd.DataFrame([[product_url, product_name, product_id, supplier_name, supplier_link, all_prices]], \n",
    "                           columns=[\"Product URL\", \"Product Name\", \"Product ID\", \"Supplier Name\", \"Supplier Link\", \"Prices\"])\n",
    "    \n",
    "    if os.path.exists(excel_filename):\n",
    "        df = pd.read_excel(excel_filename)\n",
    "        df = pd.concat([df, new_row], ignore_index=True)\n",
    "    else:\n",
    "        df = new_row\n",
    "    df.to_excel(excel_filename, index=False)\n",
    "\n",
    "    # ---------- Word ----------\n",
    "    doc_filename = \"product_data.docx\"\n",
    "    if os.path.exists(doc_filename):\n",
    "        doc = Document(doc_filename)\n",
    "    else:\n",
    "        doc = Document()\n",
    "        doc.add_heading(\"Supplier & Product Information\", 0)\n",
    "    \n",
    "    doc.add_paragraph(f\"Product URL: {product_url}\")\n",
    "    doc.add_paragraph(f\"Supplier Name: {supplier_name}\")\n",
    "    doc.add_paragraph(f\"Supplier Link: {supplier_link}\")\n",
    "    if all_prices:\n",
    "        doc.add_paragraph(\"Prices:\\n\" + all_prices)\n",
    "    if product_name:\n",
    "        doc.add_paragraph(f\"Product Name: {product_name}\")\n",
    "    if product_id:\n",
    "        doc.add_paragraph(f\"Product ID: {product_id}\")\n",
    "\n",
    "    if image_urls:\n",
    "        doc.add_paragraph(\"Product Images:\")\n",
    "        for url in image_urls:\n",
    "            doc.add_paragraph(url)\n",
    "\n",
    "    doc.add_paragraph(\"-\" * 40)\n",
    "    doc.save(doc_filename)\n",
    "\n",
    "    # ---------- Text ----------\n",
    "    txt_filename = \"product_data.txt\"\n",
    "    mode = \"a\" if os.path.exists(txt_filename) else \"w\"\n",
    "    with open(txt_filename, mode, encoding=\"utf-8\") as f:\n",
    "        f.write(\"Supplier & Product Information\\n\")\n",
    "        f.write(f\"Product URL: {product_url}\\n\")\n",
    "        f.write(f\"Supplier Name: {supplier_name}\\n\")\n",
    "        f.write(f\"Supplier Link: {supplier_link}\\n\")\n",
    "        if all_prices:\n",
    "            f.write(\"Prices:\\n\" + all_prices + \"\\n\")\n",
    "        if image_urls:\n",
    "            f.write(\"Product Images:\\n\")\n",
    "            f.write(\"\\n\".join(image_urls) + \"\\n\")\n",
    "        if product_name:\n",
    "            f.write(f\"Product Name: {product_name}\\n\")\n",
    "        if product_id:\n",
    "            f.write(f\"Product ID: {product_id}\\n\")\n",
    "        f.write(\"-\" * 40 + \"\\n\")\n",
    "\n",
    "    print(\"\\n✅ Product details extracted successfully!\\n\")\n",
    "else:\n",
    "    print(\"\\n⚠️ Could not extract supplier/price information from this link.\\n\")\n"
   ]
  },
  {
   "cell_type": "code",
   "execution_count": null,
   "id": "55e05807-28b2-47cb-a3a9-80beda567c74",
   "metadata": {},
   "outputs": [],
   "source": []
  }
 ],
 "metadata": {
  "kernelspec": {
   "display_name": "Python (tfenv)",
   "language": "python",
   "name": "tfenv"
  },
  "language_info": {
   "codemirror_mode": {
    "name": "ipython",
    "version": 3
   },
   "file_extension": ".py",
   "mimetype": "text/x-python",
   "name": "python",
   "nbconvert_exporter": "python",
   "pygments_lexer": "ipython3",
   "version": "3.10.18"
  },
  "widgets": {
   "application/vnd.jupyter.widget-state+json": {
    "state": {},
    "version_major": 2,
    "version_minor": 0
   }
  }
 },
 "nbformat": 4,
 "nbformat_minor": 5
}
